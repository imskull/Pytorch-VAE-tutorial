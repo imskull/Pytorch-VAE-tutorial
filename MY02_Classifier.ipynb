{
 "cells": [
  {
   "cell_type": "markdown",
   "metadata": {},
   "source": [
    "# 数字分类（识别）Demo\n"
   ]
  },
  {
   "cell_type": "markdown",
   "metadata": {},
   "source": [
    "目标：输入一个0-9手写数字，识别出里面的数值。"
   ]
  },
  {
   "cell_type": "code",
   "execution_count": 3,
   "metadata": {},
   "outputs": [],
   "source": [
    "import torch\n",
    "import torch.nn as nn   # nn = Neural Network，创建神经网络的工具\n",
    "\n",
    "import numpy as np      # 处理张量的“始祖”级库，Torch横行后现在一般用在库之间数据交流部分。\n",
    "\n",
    "from tqdm import tqdm   # 进度可视化\n",
    "from torchvision.utils import save_image, make_grid # 可视化工具"
   ]
  },
  {
   "cell_type": "code",
   "execution_count": 4,
   "metadata": {},
   "outputs": [],
   "source": [
    "# Model Hyperparameters\n",
    "\n",
    "dataset_path = '~/datasets'\n",
    "\n",
    "cuda = True\n",
    "DEVICE = torch.device(\"cuda\" if cuda else \"cpu\")\n",
    "\n",
    "\n",
    "batch_size = 100    # for循环里面一次处理batch_size个samples\n",
    "\n",
    "x_dim  = 784        # 输入和输出图片维度，784=28*28\n",
    "hidden_dim = 400    # 中间层维度, Encoder: x_dim -> hidden_dim -> latent_dim\n",
    "#Old: latent_dim = 200    # VAE Encode输出和Decode输入的隐空间维度\n",
    "# New:\n",
    "output_dim = 10     # 0-9这10个数字，每个数字的概率[0, 1]，最终结果选概率最大的值代表的数字。\n",
    "                    # 直接\"int(a_float_output)\"这么也行，但效果不一定好，因为：\n",
    "                    #  1. 对分类任务，类之间应该没有顺序关系，也不能有大小关系。\n",
    "                    #  2. 神经网络处理数据希望是0附近的值\n",
    "\n",
    "lr = 1e-3           # Learning-rate 学习率\n",
    "\n",
    "epochs = 30         # 训练轮数"
   ]
  },
  {
   "cell_type": "markdown",
   "metadata": {},
   "source": [
    "###    Step 1. Load (or download) Dataset"
   ]
  },
  {
   "cell_type": "code",
   "execution_count": 5,
   "metadata": {},
   "outputs": [],
   "source": [
    "from torchvision.datasets import MNIST\n",
    "import torchvision.transforms as transforms\n",
    "from torch.utils.data import DataLoader\n",
    "\n",
    "\n",
    "mnist_transform = transforms.Compose([\n",
    "        transforms.ToTensor(),\n",
    "])\n",
    "\n",
    "kwargs = {'num_workers': 0, 'pin_memory': True} \n",
    "\n",
    "# MNIST数据集：http://yann.lecun.com/exdb/mnist/ , 6万+1万\n",
    "# CelebA数据集：https://mmlab.ie.cuhk.edu.hk/projects/CelebA.html , 20万图片，1万标签\n",
    "# ImageNet数据集: https://www.image-net.org/ , 1千400万\n",
    "train_dataset = MNIST(dataset_path, transform=mnist_transform, train=True, download=True)       # 训练用样本，6w\n",
    "test_dataset  = MNIST(dataset_path, transform=mnist_transform, train=False, download=True)      # 测试用样本，1w\n",
    "\n",
    "train_loader = DataLoader(dataset=train_dataset, batch_size=batch_size, shuffle=True, **kwargs)\n",
    "test_loader  = DataLoader(dataset=test_dataset,  batch_size=batch_size, shuffle=False, **kwargs)"
   ]
  },
  {
   "cell_type": "markdown",
   "metadata": {},
   "source": [
    "### Step 2. Define our model: Variational AutoEncoder (VAE)"
   ]
  },
  {
   "cell_type": "code",
   "execution_count": 6,
   "metadata": {},
   "outputs": [],
   "source": [
    "\"\"\"\n",
    "    A simple implementation of Gaussian MLP Encoder and Decoder\n",
    "\"\"\"\n",
    "\n",
    "# 编码器：把输入降维到Latent\n",
    "# 从nn.Module派生可以让有Learnable Parameters的成员变量保存到checkpoint里面。\n",
    "class Encoder(nn.Module):\n",
    "    \n",
    "    def __init__(self, input_dim, hidden_dim, output_dim):\n",
    "        super(Encoder, self).__init__()\n",
    "\n",
    "        self.FC_input = nn.Linear(input_dim, hidden_dim)    # FC=Fully Connected Layer，示例没有使用卷积。\n",
    "        self.FC_input2 = nn.Linear(hidden_dim, hidden_dim)  # 用了两层全连接层。\n",
    "\n",
    "        # Old:\n",
    "        # self.FC_mean  = nn.Linear(hidden_dim, latent_dim)\n",
    "        # self.FC_var   = nn.Linear (hidden_dim, latent_dim)\n",
    "        # New:\n",
    "        self.FC_proj = nn.Linear(hidden_dim, output_dim)\n",
    "        \n",
    "        self.LeakyReLU = nn.LeakyReLU(0.2)  # 激活函数\n",
    "        \n",
    "        self.training = True\n",
    "        \n",
    "    def forward(self, x):\n",
    "        # nn.Linear: https://pytorch.org/docs/stable/generated/torch.nn.Linear.html\n",
    "        # ReLU: https://pytorch.org/docs/stable/generated/torch.nn.ReLU.html\n",
    "        # LeakyReLU: https://pytorch.org/docs/stable/generated/torch.nn.LeakyReLU.html\n",
    "        # 激活函数没有可训练参数，所以两层可以共用 \n",
    "        h_       = self.LeakyReLU(self.FC_input(x))     # y1=w1*x1 + b1 (忽略了LeakyReLU)\n",
    "        h_       = self.LeakyReLU(self.FC_input2(h_))   # y2=w2*y1 + b2\n",
    "        # Old:\n",
    "        # mean     = self.FC_mean(h_)\n",
    "        #log_var  = self.FC_var(h_)                     # encoder produces mean and log of variance \n",
    "        #                                               #             (i.e., parateters of simple tractable normal distribution \"q\"\n",
    "        # New:\n",
    "        x_logits = self.FC_proj(h_)\n",
    "        \n",
    "        return x_logits # [N, 10]"
   ]
  },
  {
   "cell_type": "code",
   "execution_count": 7,
   "metadata": {},
   "outputs": [
    {
     "data": {
      "text/plain": [
       "'\\n# 解码器：接受Latent，升维到输出维。\\n# 解码器把编码器“倒”过来执行了一遍。\\nclass Decoder(nn.Module):\\n    def __init__(self, latent_dim, hidden_dim, output_dim):\\n        super(Decoder, self).__init__()\\n        self.FC_hidden = nn.Linear(latent_dim, hidden_dim)\\n        self.FC_hidden2 = nn.Linear(hidden_dim, hidden_dim)\\n        self.FC_output = nn.Linear(hidden_dim, output_dim)\\n        \\n        self.LeakyReLU = nn.LeakyReLU(0.2)\\n        \\n    def forward(self, x):\\n        h     = self.LeakyReLU(self.FC_hidden(x))\\n        h     = self.LeakyReLU(self.FC_hidden2(h))\\n        \\n        # nn.Sigmoid: https://pytorch.org/docs/stable/generated/torch.nn.Sigmoid.html\\n        x_hat = torch.sigmoid(self.FC_output(h)) # 输出需要一个[0, 1]的灰度值\\n        return x_hat\\n        \\n'"
      ]
     },
     "execution_count": 7,
     "metadata": {},
     "output_type": "execute_result"
    }
   ],
   "source": [
    "\"\"\"\n",
    "# 解码器：接受Latent，升维到输出维。\n",
    "# 解码器把编码器“倒”过来执行了一遍。\n",
    "class Decoder(nn.Module):\n",
    "    def __init__(self, latent_dim, hidden_dim, output_dim):\n",
    "        super(Decoder, self).__init__()\n",
    "        self.FC_hidden = nn.Linear(latent_dim, hidden_dim)\n",
    "        self.FC_hidden2 = nn.Linear(hidden_dim, hidden_dim)\n",
    "        self.FC_output = nn.Linear(hidden_dim, output_dim)\n",
    "        \n",
    "        self.LeakyReLU = nn.LeakyReLU(0.2)\n",
    "        \n",
    "    def forward(self, x):\n",
    "        h     = self.LeakyReLU(self.FC_hidden(x))\n",
    "        h     = self.LeakyReLU(self.FC_hidden2(h))\n",
    "        \n",
    "        # nn.Sigmoid: https://pytorch.org/docs/stable/generated/torch.nn.Sigmoid.html\n",
    "        x_hat = torch.sigmoid(self.FC_output(h)) # 输出需要一个[0, 1]的灰度值\n",
    "        return x_hat\n",
    "        \n",
    "\"\"\""
   ]
  },
  {
   "cell_type": "code",
   "execution_count": 8,
   "metadata": {},
   "outputs": [],
   "source": [
    "# 主模型\n",
    "class Model(nn.Module):\n",
    "    def __init__(self, Encoder):\n",
    "        super(Model, self).__init__()\n",
    "        self.Encoder = Encoder\n",
    "        # self.Decoder = Decoder\n",
    "    \n",
    "    # # VAE里面V(ariational)的含义，重参数技巧。\n",
    "    # def reparameterization(self, mean, var):\n",
    "    #     epsilon = torch.randn_like(var).to(DEVICE)        # sampling epsilon        \n",
    "    #     z = mean + var*epsilon                          # reparameterization trick\n",
    "    #     return z\n",
    "        \n",
    "                \n",
    "    # def forward(self, x):\n",
    "    #     # 1: 编码\n",
    "    #     mean, log_var = self.Encoder(x)\n",
    "    #     # 用重参数技巧解决梯度传递问题。\n",
    "    #     z = self.reparameterization(mean, torch.exp(0.5 * log_var)) # takes exponential function (log var -> var)\n",
    "    #     # 2: 解码\n",
    "    #     x_hat            = self.Decoder(z) # Hat表示x头上顶个\"帽子\"那种符号，一般表示“估计值”，也就是AI预测出来的值。       \n",
    "    #     return x_hat, mean, log_var\n",
    "\n",
    "    def forward(self, x): # x: [N, 1]\n",
    "        out = self.Encoder(x) # [N, 10] -> [N, 10]\n",
    "        return out"
   ]
  },
  {
   "cell_type": "code",
   "execution_count": 9,
   "metadata": {},
   "outputs": [],
   "source": [
    "\n",
    "encoder = Encoder(input_dim=x_dim, hidden_dim=hidden_dim, output_dim=output_dim)\n",
    "# decoder = Decoder(latent_dim=latent_dim, hidden_dim = hidden_dim, output_dim = x_dim)\n",
    "\n",
    "# model = Model(Encoder=encoder, Decoder=decoder).to(DEVICE)\n",
    "model = Model(Encoder=encoder).to(DEVICE)"
   ]
  },
  {
   "cell_type": "markdown",
   "metadata": {},
   "source": [
    "### Step 3. Define Loss function (reprod. loss) and optimizer"
   ]
  },
  {
   "cell_type": "code",
   "execution_count": 10,
   "metadata": {},
   "outputs": [],
   "source": [
    "from torch.optim import Adam\n",
    "\n",
    "BCE_loss = nn.BCELoss()\n",
    "\n",
    "# 损失函数\n",
    "\"\"\"\n",
    "Old: \n",
    "def loss_function(x, x_hat, mean, log_var):\n",
    "    # VAE损失函数推导：https://medium.com/retina-ai-health-inc/variational-inference-derivation-of-the-variational-autoencoder-vae-loss-function-a-true-story-3543a3dc67ee\n",
    "    reproduction_loss = nn.functional.binary_cross_entropy(x_hat, x, reduction='sum')\n",
    "    KLD      = - 0.5 * torch.sum(1+ log_var - mean.pow(2) - log_var.exp())\n",
    "\n",
    "    return reproduction_loss + KLD\n",
    "\"\"\"\n",
    "# New:\n",
    "def loss_function(label, x_hat):\n",
    "    loss = nn.functional.cross_entropy(x_hat, label, reduction='sum') # 用交叉熵求多分类损失\n",
    "    # prob_x = x_hat.softmax(-1) # 想看看每个数字[0, 1]的概率用这个。\n",
    "\n",
    "    return loss\n",
    "\n",
    "optimizer = Adam(model.parameters(), lr=lr) # 优化器，Adam是SGD的进阶版。   "
   ]
  },
  {
   "cell_type": "markdown",
   "metadata": {},
   "source": [
    "### Step 4. Train Variational AutoEncoder (VAE)"
   ]
  },
  {
   "cell_type": "code",
   "execution_count": 11,
   "metadata": {
    "scrolled": false
   },
   "outputs": [
    {
     "name": "stdout",
     "output_type": "stream",
     "text": [
      "Start training VAE...\n",
      "\tEpoch 1 complete! \tAverage Loss:  0.28191945402371466\n",
      "\tEpoch 2 complete! \tAverage Loss:  0.11511515860963545\n",
      "\tEpoch 3 complete! \tAverage Loss:  0.07949532223464252\n",
      "\tEpoch 4 complete! \tAverage Loss:  0.06097687138987702\n",
      "\tEpoch 5 complete! \tAverage Loss:  0.0485893593076772\n",
      "\tEpoch 6 complete! \tAverage Loss:  0.04372888417071811\n",
      "\tEpoch 7 complete! \tAverage Loss:  0.035894441135190365\n",
      "\tEpoch 8 complete! \tAverage Loss:  0.02972803105906473\n",
      "\tEpoch 9 complete! \tAverage Loss:  0.02884376298095129\n",
      "\tEpoch 10 complete! \tAverage Loss:  0.024509119099948264\n",
      "\tEpoch 11 complete! \tAverage Loss:  0.023716431087977524\n",
      "\tEpoch 12 complete! \tAverage Loss:  0.021291541257493808\n",
      "\tEpoch 13 complete! \tAverage Loss:  0.02228610392879129\n",
      "\tEpoch 14 complete! \tAverage Loss:  0.019577695097096375\n",
      "\tEpoch 15 complete! \tAverage Loss:  0.01774673049685659\n",
      "\tEpoch 16 complete! \tAverage Loss:  0.018939403393609024\n",
      "\tEpoch 17 complete! \tAverage Loss:  0.015659480519675945\n",
      "\tEpoch 18 complete! \tAverage Loss:  0.014907864408621189\n",
      "\tEpoch 19 complete! \tAverage Loss:  0.016281430990765965\n",
      "\tEpoch 20 complete! \tAverage Loss:  0.01537343716251445\n",
      "\tEpoch 21 complete! \tAverage Loss:  0.01344938879485906\n",
      "\tEpoch 22 complete! \tAverage Loss:  0.01524378673341065\n",
      "\tEpoch 23 complete! \tAverage Loss:  0.015190838804201865\n",
      "\tEpoch 24 complete! \tAverage Loss:  0.01653087941460004\n",
      "\tEpoch 25 complete! \tAverage Loss:  0.009296313496235116\n",
      "\tEpoch 26 complete! \tAverage Loss:  0.010741598977220688\n",
      "\tEpoch 27 complete! \tAverage Loss:  0.01640668526903465\n",
      "\tEpoch 28 complete! \tAverage Loss:  0.01265938650701867\n",
      "\tEpoch 29 complete! \tAverage Loss:  0.014586452130299073\n",
      "\tEpoch 30 complete! \tAverage Loss:  0.011130001980373649\n",
      "Finish!!\n"
     ]
    }
   ],
   "source": [
    "print(\"Start training VAE...\")\n",
    "model.train()   # 切换到训练模式\n",
    "\n",
    "# 主训练循环\n",
    "for epoch in range(epochs):\n",
    "    overall_loss = 0\n",
    "    # Old: for batch_idx, (x, _) in enumerate(train_loader):\n",
    "    # New: \n",
    "    for batch_idx, (x, label) in enumerate(train_loader): # label是0-9的整形\n",
    "        x = x.view(batch_size, x_dim) # 每次训练batch_size个样本；把[N,1,W,H]“拉直”成[N,W*H]\n",
    "        # x的shape和模型类型有关系：\n",
    "        # [N,C]: 本Demo用，一般很少这么用。\n",
    "        # [N,C,L]: Transformer类模型用，L是Token长度。Tensorflow: [N,L,C]\n",
    "        # [N,C,H,W]: 图像处理类模型用\n",
    "        x = x.to(DEVICE)        # 我们要用GPU训练\n",
    "        label = label.to(DEVICE)\n",
    "\n",
    "        optimizer.zero_grad()   # 清空旧的梯度\n",
    "\n",
    "        x_hat = model(x) # 运行主模型\n",
    "        # Old: loss = loss_function(x, x_hat, mean, log_var) # 计算损失\n",
    "        loss = loss_function(label, x_hat) # 计算损失\n",
    "        \n",
    "        overall_loss += loss.item()     # 累积每个epoch的损失，后面用来求均值。\n",
    "        \n",
    "        loss.backward()     # 反向转播，产生各个Layer的梯度\n",
    "        optimizer.step()    # 更新模型参数\n",
    "        \n",
    "    print(\"\\tEpoch\", epoch + 1, \"complete!\", \"\\tAverage Loss: \", overall_loss / (batch_idx*batch_size))\n",
    "    \n",
    "print(\"Finish!!\")"
   ]
  },
  {
   "cell_type": "markdown",
   "metadata": {},
   "source": [
    "### Step 5. Generate images from test dataset"
   ]
  },
  {
   "cell_type": "code",
   "execution_count": 12,
   "metadata": {},
   "outputs": [],
   "source": [
    "import matplotlib.pyplot as plt # matplotlib是常用的可视化库"
   ]
  },
  {
   "cell_type": "code",
   "execution_count": 13,
   "metadata": {},
   "outputs": [
    {
     "name": "stderr",
     "output_type": "stream",
     "text": [
      "  0%|          | 0/100 [00:00<?, ?it/s]\n"
     ]
    }
   ],
   "source": [
    "model.eval() # 切换到“评估”模式\n",
    "\n",
    "# 取一个batch的样本测测效果\n",
    "with torch.no_grad(): # 禁止梯度下降相关功能\n",
    "    for batch_idx, (x, _) in enumerate(tqdm(test_loader)):\n",
    "        x = x.view(batch_size, x_dim)\n",
    "        x = x.to(DEVICE)\n",
    "        \n",
    "        x_hat = model(x)\n",
    "\n",
    "\n",
    "        break"
   ]
  },
  {
   "cell_type": "code",
   "execution_count": 19,
   "metadata": {},
   "outputs": [],
   "source": [
    "# 一个显示图片的工具函数\n",
    "def show_image(x, idx):\n",
    "    x = x.view(batch_size, 28, 28)      # 把“拉直”了的Tensor变回图片（方块图）\n",
    "\n",
    "    fig = plt.figure()\n",
    "    plt.imshow(x[idx].cpu().numpy())    # plot需要numpy格式的数据，不能传torch.Tensor\n",
    "\n",
    "def print_number(x_hat, idx):\n",
    "    x_prob = x_hat.softmax(-1)  # logits转概率[0, 1]，其实不用也行。\n",
    "    x_no = x_prob.argmax(-1)    # 10个概率中取最大值的索引\n",
    "    print(f\"The Number is: {x_no[idx].item()}\")"
   ]
  },
  {
   "cell_type": "code",
   "execution_count": 20,
   "metadata": {
    "scrolled": true
   },
   "outputs": [
    {
     "name": "stdout",
     "output_type": "stream",
     "text": [
      "The Number is: 7\n"
     ]
    },
    {
     "data": {
      "image/png": "[encoded data removed]",
      "text/plain": [
       "<Figure size 640x480 with 1 Axes>"
      ]
     },
     "metadata": {},
     "output_type": "display_data"
    }
   ],
   "source": [
    "# 显示输入数据\n",
    "show_image(x, idx=0)\n",
    "print_number(x_hat, idx=0)"
   ]
  },
  {
   "cell_type": "code",
   "execution_count": 22,
   "metadata": {},
   "outputs": [
    {
     "name": "stdout",
     "output_type": "stream",
     "text": [
      "The Number is: 0\n"
     ]
    },
    {
     "data": {
      "image/png": "[encoded data removed]",
      "text/plain": [
       "<Figure size 640x480 with 1 Axes>"
      ]
     },
     "metadata": {},
     "output_type": "display_data"
    }
   ],
   "source": [
    "# 显示输入数据\n",
    "show_image(x, idx=3)\n",
    "print_number(x_hat, idx=3)"
   ]
  }
 ],
 "metadata": {
  "kernelspec": {
   "display_name": "Python 3",
   "language": "python",
   "name": "python3"
  },
  "language_info": {
   "codemirror_mode": {
    "name": "ipython",
    "version": 3
   },
   "file_extension": ".py",
   "mimetype": "text/x-python",
   "name": "python",
   "nbconvert_exporter": "python",
   "pygments_lexer": "ipython3",
   "version": "3.10.13"
  }
 },
 "nbformat": 4,
 "nbformat_minor": 2
}
