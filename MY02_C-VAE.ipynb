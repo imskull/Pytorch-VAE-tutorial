{
 "cells": [
  {
   "cell_type": "markdown",
   "metadata": {},
   "source": [
    "# 条件VAE\n",
    "\n",
    "     VAE from \"Auto-Encoding Variational Bayes\" (2014, D.P. Kingma et. al.)\n",
    "    \n",
    "     Kernel-author: Jackson Kang @ Deep-learning Lab. (Handong Global University, S.Korea)\n",
    "     \n",
    "     Author-email:  mskang@handong.edu\n",
    "\n",
    "     python and pytorch version: python=3.7, pytorch=1.3.1"
   ]
  },
  {
   "cell_type": "markdown",
   "metadata": {},
   "source": [
    "目标：能生成指定数值的手写字体。"
   ]
  },
  {
   "cell_type": "code",
   "execution_count": 48,
   "metadata": {},
   "outputs": [],
   "source": [
    "import torch\n",
    "import torch.nn as nn   # nn = Neural Network，创建神经网络的工具\n",
    "\n",
    "import numpy as np      # 处理张量的“始祖”级库，Torch横行后现在一般用在库之间数据交流部分。\n",
    "\n",
    "from tqdm import tqdm   # 进度可视化\n",
    "from torchvision.utils import save_image, make_grid # 可视化工具"
   ]
  },
  {
   "cell_type": "code",
   "execution_count": 49,
   "metadata": {},
   "outputs": [],
   "source": [
    "# Model Hyperparameters\n",
    "\n",
    "dataset_path = '~/datasets'\n",
    "\n",
    "cuda = True\n",
    "DEVICE = torch.device(\"cuda\" if cuda else \"cpu\")\n",
    "\n",
    "\n",
    "batch_size = 100    # for循环里面一次处理batch_size个samples\n",
    "\n",
    "x_dim  = 784        # 输入和输出图片维度，784=28*28\n",
    "hidden_dim = 400    # 中间层维度, Encoder: x_dim -> hidden_dim -> latent_dim\n",
    "latent_dim = 200    # VAE Encode输出和Decode输入的隐空间维度\n",
    "\n",
    "lr = 1e-3           # Learning-rate 学习率\n",
    "\n",
    "epochs = 30         # 训练轮数"
   ]
  },
  {
   "cell_type": "markdown",
   "metadata": {},
   "source": [
    "###    Step 1. Load (or download) Dataset"
   ]
  },
  {
   "cell_type": "code",
   "execution_count": 50,
   "metadata": {},
   "outputs": [],
   "source": [
    "from torchvision.datasets import MNIST\n",
    "import torchvision.transforms as transforms\n",
    "from torch.utils.data import DataLoader\n",
    "\n",
    "\n",
    "mnist_transform = transforms.Compose([\n",
    "        transforms.ToTensor(),\n",
    "])\n",
    "\n",
    "kwargs = {'num_workers': 0, 'pin_memory': True} \n",
    "\n",
    "# MNIST数据集：http://yann.lecun.com/exdb/mnist/ , 6万+1万\n",
    "# CelebA数据集：https://mmlab.ie.cuhk.edu.hk/projects/CelebA.html , 20万图片，1万标签\n",
    "# ImageNet数据集: https://www.image-net.org/ , 1千400万\n",
    "train_dataset = MNIST(dataset_path, transform=mnist_transform, train=True, download=True)       # 训练用样本，6w\n",
    "test_dataset  = MNIST(dataset_path, transform=mnist_transform, train=False, download=True)      # 测试用样本，1w\n",
    "\n",
    "train_loader = DataLoader(dataset=train_dataset, batch_size=batch_size, shuffle=True, **kwargs)\n",
    "test_loader  = DataLoader(dataset=test_dataset,  batch_size=batch_size, shuffle=False, **kwargs)"
   ]
  },
  {
   "cell_type": "markdown",
   "metadata": {},
   "source": [
    "### Step 2. Define our model: Variational AutoEncoder (VAE)"
   ]
  },
  {
   "cell_type": "code",
   "execution_count": 51,
   "metadata": {},
   "outputs": [],
   "source": [
    "\"\"\"\n",
    "    A simple implementation of Gaussian MLP Encoder and Decoder\n",
    "\"\"\"\n",
    "\n",
    "# 编码器：把输入降维到Latent\n",
    "# 从nn.Module派生可以让有Learnable Parameters的成员变量保存到checkpoint里面。\n",
    "class Encoder(nn.Module):\n",
    "    \n",
    "    def __init__(self, input_dim, hidden_dim, latent_dim):\n",
    "        super(Encoder, self).__init__()\n",
    "\n",
    "        self.FC_input = nn.Linear(input_dim, hidden_dim)    # FC=Fully Connected Layer，示例没有使用卷积。\n",
    "        self.FC_input2 = nn.Linear(hidden_dim, hidden_dim)  # 用了两层全连接层。\n",
    "        self.FC_mean  = nn.Linear(hidden_dim, latent_dim)\n",
    "        self.FC_var   = nn.Linear (hidden_dim, latent_dim)\n",
    "        \n",
    "        self.LeakyReLU = nn.LeakyReLU(0.2)  # 激活函数\n",
    "\n",
    "        # New:\n",
    "        self.FC_embed = nn.Linear(10, hidden_dim) # 训练时需要嵌入(embed)数字编号，Encoder,Decoder的输入部分都嵌入\n",
    "        \n",
    "        self.training = True\n",
    "        \n",
    "    def forward(self, x, label): # New: 加了label参数，里面就是x对应图片里的数字\n",
    "        # nn.Linear: https://pytorch.org/docs/stable/generated/torch.nn.Linear.html\n",
    "        # ReLU: https://pytorch.org/docs/stable/generated/torch.nn.ReLU.html\n",
    "        # LeakyReLU: https://pytorch.org/docs/stable/generated/torch.nn.LeakyReLU.html\n",
    "        # 激活函数没有可训练参数，所以两层可以共用 \n",
    "        h_       = self.LeakyReLU(self.FC_input(x))     # y1=w1*x1 + b1 (忽略了LeakyReLU)\n",
    "\n",
    "        # New:\n",
    "        # 直接嵌入个0-9大小的Tensor有缺点，用ONE-HOT方法嵌入\n",
    "        # 数字ONE-HOT后变成这样：\n",
    "        # 0: [1, 0, 0, 0, 0, 0, 0, 0, 0, 0]\n",
    "        # 1: [0, 1, 0, 0, 0, 0, 0, 0, 0, 0]\n",
    "        # 2: [0, 0, 1, 0, 0, 0, 0, 0, 0, 0]\n",
    "        # ...\n",
    "        # 9: [0, 0, 0, 0, 0, 0, 0, 0, 0, 1]\n",
    "        embedding = nn.functional.one_hot(label, 10).float() # [N, 1](int) -> [N, 10](float)\n",
    "        embedding = self.FC_embed(embedding) # [N, 10] -> [N, hidden_dim(400)], 用linear转换下维度，不然后面加法没法用\n",
    "        h_ = h_ + embedding # 这里用加法做embed，也可以concat，加法好处是保证维度不变。为啥可以“加”？\n",
    "\n",
    "        h_       = self.LeakyReLU(self.FC_input2(h_))   # y2=w2*y1 + b2\n",
    "        mean     = self.FC_mean(h_)\n",
    "        log_var  = self.FC_var(h_)                     # encoder produces mean and log of variance \n",
    "                                                       #             (i.e., parateters of simple tractable normal distribution \"q\"\n",
    "        \n",
    "        return mean, log_var # 这就是输出的Latent，均值和方差"
   ]
  },
  {
   "cell_type": "code",
   "execution_count": 52,
   "metadata": {},
   "outputs": [],
   "source": [
    "# 解码器：接受Latent，升维到输出维。\n",
    "# 解码器把编码器“倒”过来执行了一遍。\n",
    "class Decoder(nn.Module):\n",
    "    def __init__(self, latent_dim, hidden_dim, output_dim):\n",
    "        super(Decoder, self).__init__()\n",
    "        self.FC_hidden = nn.Linear(latent_dim, hidden_dim)\n",
    "        self.FC_hidden2 = nn.Linear(hidden_dim, hidden_dim)\n",
    "        self.FC_output = nn.Linear(hidden_dim, output_dim)\n",
    "        \n",
    "        self.LeakyReLU = nn.LeakyReLU(0.2)\n",
    "\n",
    "        # New:\n",
    "        self.FC_embed = nn.Linear(10, hidden_dim) # 训练时需要嵌入(embed)数字编号，Encoder,Decoder的输入部分都嵌入\n",
    "\n",
    "    def forward(self, x, label):\n",
    "        h_     = self.LeakyReLU(self.FC_hidden(x))\n",
    "\n",
    "        # New: copy encoder的代码\n",
    "        embedding = nn.functional.one_hot(label, 10).float() # [N, 1](int) -> [N, 10](float)\n",
    "        embedding = self.FC_embed(embedding) # [N, 10] -> [N, hidden_dim(400)]\n",
    "        h_ = h_ + embedding\n",
    "\n",
    "        h_     = self.LeakyReLU(self.FC_hidden2(h_))\n",
    "        \n",
    "        # nn.Sigmoid: https://pytorch.org/docs/stable/generated/torch.nn.Sigmoid.html\n",
    "        x_hat = torch.sigmoid(self.FC_output(h_)) # 输出需要一个[0, 1]的灰度值\n",
    "        return x_hat\n",
    "        "
   ]
  },
  {
   "cell_type": "code",
   "execution_count": 53,
   "metadata": {},
   "outputs": [],
   "source": [
    "# 主模型\n",
    "class Model(nn.Module):\n",
    "    def __init__(self, Encoder, Decoder):\n",
    "        super(Model, self).__init__()\n",
    "        self.Encoder = Encoder\n",
    "        self.Decoder = Decoder\n",
    "    \n",
    "    # VAE里面V(ariational)的含义，重参数技巧。\n",
    "    def reparameterization(self, mean, var):\n",
    "        epsilon = torch.randn_like(var).to(DEVICE)        # sampling epsilon        \n",
    "        z = mean + var*epsilon                          # reparameterization trick\n",
    "        return z\n",
    "        \n",
    "    def forward(self, x, label): # New: 加了label参数\n",
    "        # 1: 编码\n",
    "        mean, log_var = self.Encoder(x, label)\n",
    "        # 用重参数技巧解决梯度传递问题。\n",
    "        z = self.reparameterization(mean, torch.exp(0.5 * log_var)) # takes exponential function (log var -> var)\n",
    "        # 2: 解码\n",
    "        x_hat            = self.Decoder(z, label) # Hat表示x头上顶个\"帽子\"那种符号，一般表示“估计值”，也就是AI预测出来的值。\n",
    "        \n",
    "        return x_hat, mean, log_var"
   ]
  },
  {
   "cell_type": "code",
   "execution_count": 54,
   "metadata": {},
   "outputs": [],
   "source": [
    "encoder = Encoder(input_dim=x_dim, hidden_dim=hidden_dim, latent_dim=latent_dim)\n",
    "decoder = Decoder(latent_dim=latent_dim, hidden_dim = hidden_dim, output_dim = x_dim)\n",
    "\n",
    "model = Model(Encoder=encoder, Decoder=decoder).to(DEVICE)"
   ]
  },
  {
   "cell_type": "markdown",
   "metadata": {},
   "source": [
    "### Step 3. Define Loss function (reprod. loss) and optimizer"
   ]
  },
  {
   "cell_type": "code",
   "execution_count": 55,
   "metadata": {},
   "outputs": [],
   "source": [
    "from torch.optim import Adam\n",
    "\n",
    "BCE_loss = nn.BCELoss()\n",
    "\n",
    "# 损失函数\n",
    "def loss_function(x, x_hat, mean, log_var):\n",
    "    # VAE损失函数推导：https://medium.com/retina-ai-health-inc/variational-inference-derivation-of-the-variational-autoencoder-vae-loss-function-a-true-story-3543a3dc67ee\n",
    "    reproduction_loss = nn.functional.binary_cross_entropy(x_hat, x, reduction='sum')\n",
    "    KLD      = - 0.5 * torch.sum(1+ log_var - mean.pow(2) - log_var.exp())\n",
    "\n",
    "    return reproduction_loss + KLD\n",
    "\n",
    "\n",
    "optimizer = Adam(model.parameters(), lr=lr) # 优化器，Adam是SGD的进阶版。   "
   ]
  },
  {
   "cell_type": "markdown",
   "metadata": {},
   "source": [
    "### Step 4. Train Variational AutoEncoder (VAE)"
   ]
  },
  {
   "cell_type": "code",
   "execution_count": 56,
   "metadata": {
    "scrolled": false
   },
   "outputs": [
    {
     "name": "stdout",
     "output_type": "stream",
     "text": [
      "Start training VAE...\n",
      "\tEpoch 1 complete! \tAverage Loss:  155.58537331098705\n",
      "\tEpoch 2 complete! \tAverage Loss:  121.41607723484454\n",
      "\tEpoch 3 complete! \tAverage Loss:  112.01737219910788\n",
      "\tEpoch 4 complete! \tAverage Loss:  108.32584952785894\n",
      "\tEpoch 5 complete! \tAverage Loss:  105.72733478323246\n",
      "\tEpoch 6 complete! \tAverage Loss:  103.9587694171275\n",
      "\tEpoch 7 complete! \tAverage Loss:  102.85962701507721\n",
      "\tEpoch 8 complete! \tAverage Loss:  102.0204079064065\n",
      "\tEpoch 9 complete! \tAverage Loss:  101.22490886503547\n",
      "\tEpoch 10 complete! \tAverage Loss:  100.6411103140651\n",
      "\tEpoch 11 complete! \tAverage Loss:  100.20308313334725\n",
      "\tEpoch 12 complete! \tAverage Loss:  99.80776945951585\n",
      "\tEpoch 13 complete! \tAverage Loss:  99.41852239083369\n",
      "\tEpoch 14 complete! \tAverage Loss:  99.1011341167571\n",
      "\tEpoch 15 complete! \tAverage Loss:  98.80668265468489\n",
      "\tEpoch 16 complete! \tAverage Loss:  98.55013414284224\n",
      "\tEpoch 17 complete! \tAverage Loss:  98.31666265064169\n",
      "\tEpoch 18 complete! \tAverage Loss:  98.13966602866758\n",
      "\tEpoch 19 complete! \tAverage Loss:  97.99999585898372\n",
      "\tEpoch 20 complete! \tAverage Loss:  97.76531548348811\n",
      "\tEpoch 21 complete! \tAverage Loss:  97.70875017933535\n",
      "\tEpoch 22 complete! \tAverage Loss:  97.4979115746296\n",
      "\tEpoch 23 complete! \tAverage Loss:  97.33352468958681\n",
      "\tEpoch 24 complete! \tAverage Loss:  97.22812803239775\n",
      "\tEpoch 25 complete! \tAverage Loss:  97.14622593645659\n",
      "\tEpoch 26 complete! \tAverage Loss:  96.97222403550188\n",
      "\tEpoch 27 complete! \tAverage Loss:  96.90386439965046\n",
      "\tEpoch 28 complete! \tAverage Loss:  96.84248431630843\n",
      "\tEpoch 29 complete! \tAverage Loss:  96.67064195534223\n",
      "\tEpoch 30 complete! \tAverage Loss:  96.66383081503025\n",
      "Finish!!\n"
     ]
    }
   ],
   "source": [
    "print(\"Start training VAE...\")\n",
    "model.train()   # 切换到训练模式\n",
    "\n",
    "# 主训练循环\n",
    "for epoch in range(epochs):\n",
    "    overall_loss = 0\n",
    "    # Old: for batch_idx, (x, _) in enumerate(train_loader):\n",
    "    for batch_idx, (x, label) in enumerate(train_loader):\n",
    "        x = x.view(batch_size, x_dim) # 每次训练batch_size个样本；把[N,1,W,H]“拉直”成[N,W*H]\n",
    "        # x的shape和模型类型有关系：\n",
    "        # [N,C]: 本Demo用，一般很少这么用。\n",
    "        # [N,C,L]: Transformer类模型用，L是Token长度。Tensorflow: [N,L,C]\n",
    "        # [N,C,H,W]: 图像处理类模型用\n",
    "        x = x.to(DEVICE)        # 我们要用GPU训练\n",
    "        label = label.to(DEVICE)\n",
    "\n",
    "        optimizer.zero_grad()   # 清空旧的梯度\n",
    "\n",
    "        x_hat, mean, log_var = model(x, label) # 运行主模型\n",
    "        loss = loss_function(x, x_hat, mean, log_var) # 计算损失\n",
    "        \n",
    "        overall_loss += loss.item()     # 累积每个epoch的损失，后面用来求均值。\n",
    "        \n",
    "        loss.backward()     # 反向转播，产生各个Layer的梯度\n",
    "        optimizer.step()    # 更新模型参数\n",
    "        \n",
    "    print(\"\\tEpoch\", epoch + 1, \"complete!\", \"\\tAverage Loss: \", overall_loss / (batch_idx*batch_size))\n",
    "    \n",
    "print(\"Finish!!\")"
   ]
  },
  {
   "cell_type": "markdown",
   "metadata": {},
   "source": [
    "### Step 5. Generate images from test dataset"
   ]
  },
  {
   "cell_type": "code",
   "execution_count": 63,
   "metadata": {},
   "outputs": [],
   "source": [
    "import matplotlib.pyplot as plt # matplotlib是常用的可视化库"
   ]
  },
  {
   "cell_type": "code",
   "execution_count": 70,
   "metadata": {},
   "outputs": [
    {
     "name": "stderr",
     "output_type": "stream",
     "text": [
      "  0%|          | 0/100 [00:00<?, ?it/s]\n"
     ]
    }
   ],
   "source": [
    "model.eval() # 切换到“评估”模式\n",
    "\n",
    "with torch.no_grad(): # 禁止梯度下降相关功能\n",
    "    for batch_idx, (x, label) in enumerate(tqdm(test_loader)):\n",
    "        x = x.view(batch_size, x_dim)\n",
    "        x = x.to(DEVICE)\n",
    "        label = label.to(DEVICE)\n",
    "        \n",
    "        x_hat, _, _ = model(x, label)\n",
    "\n",
    "\n",
    "        break"
   ]
  },
  {
   "cell_type": "code",
   "execution_count": 105,
   "metadata": {},
   "outputs": [],
   "source": [
    "# 一个显示图片的工具函数\n",
    "def show_image(x, input_label, idx):\n",
    "    x = x.view(batch_size, 28, 28)      # 把“拉直”了的Tensor变回图片（方块图）\n",
    "\n",
    "    fig = plt.figure()\n",
    "    plt.imshow(x[idx].cpu().numpy())    # plot需要numpy格式的数据，不能传torch.Tensor\n",
    "\n",
    "    print(f\"Label: {input_label[idx].item()}\")"
   ]
  },
  {
   "cell_type": "code",
   "execution_count": 73,
   "metadata": {
    "scrolled": true
   },
   "outputs": [
    {
     "name": "stdout",
     "output_type": "stream",
     "text": [
      "Input Label: 7\n"
     ]
    },
    {
     "data": {
      "image/png": "[encoded data removed]",
      "text/plain": [
       "<Figure size 640x480 with 1 Axes>"
      ]
     },
     "metadata": {},
     "output_type": "display_data"
    }
   ],
   "source": [
    "# 显示输入数据\n",
    "show_image(x, label, idx=0)"
   ]
  },
  {
   "cell_type": "code",
   "execution_count": 75,
   "metadata": {},
   "outputs": [
    {
     "name": "stdout",
     "output_type": "stream",
     "text": [
      "Input Label: 0\n"
     ]
    },
    {
     "data": {
      "image/png": "[encoded data removed]",
      "text/plain": [
       "<Figure size 640x480 with 1 Axes>"
      ]
     },
     "metadata": {},
     "output_type": "display_data"
    }
   ],
   "source": [
    "# 显示模型输出\n",
    "show_image(x_hat, label, idx=3)"
   ]
  },
  {
   "cell_type": "markdown",
   "metadata": {},
   "source": [
    "### Step 6. Generate image from noise vector"
   ]
  },
  {
   "cell_type": "markdown",
   "metadata": {},
   "source": [
    "**Please note that this is not the correct generative process.**\n",
    "\n",
    "* Even if we don't know exact p(z|x), we can generate images from noise, since the loss function of training VAE regulates the q(z|x) (simple and tractable posteriors) must close enough to N(0, I). If q(z|x) is close to N(0, I) \"enough\"(but not tightly close due to posterior collapse problem), N(0, I) may replace the encoder of VAE.\n",
    "\n",
    "* To show this, I just tested with a noise vector sampled from N(0, I) similar with Generative Adversarial Network."
   ]
  },
  {
   "cell_type": "code",
   "execution_count": 108,
   "metadata": {},
   "outputs": [],
   "source": [
    "# 测测生成效果：直接从随机值产生一个图片\n",
    "# 注意没有encoder了\n",
    "def sample_image(no: int):    \n",
    "    with torch.no_grad():\n",
    "        label = torch.full((batch_size,), no, device=DEVICE)\n",
    "\n",
    "        noise = torch.randn(batch_size, latent_dim).to(DEVICE)\n",
    "        generated_images = decoder(noise, label)\n",
    "    return generated_images, label"
   ]
  },
  {
   "cell_type": "code",
   "execution_count": 20,
   "metadata": {},
   "outputs": [],
   "source": [
    "# save_image(generated_images.view(batch_size, 1, 28, 28), 'generated_sample.png')"
   ]
  },
  {
   "cell_type": "code",
   "execution_count": 126,
   "metadata": {},
   "outputs": [
    {
     "name": "stdout",
     "output_type": "stream",
     "text": [
      "Label: 5\n"
     ]
    },
    {
     "data": {
      "image/png": "[encoded data removed]",
      "text/plain": [
       "<Figure size 640x480 with 1 Axes>"
      ]
     },
     "metadata": {},
     "output_type": "display_data"
    }
   ],
   "source": [
    "NO = 5\n",
    "x_hat, label = sample_image(NO)\n",
    "show_image(x_hat, label, idx=0)"
   ]
  }
 ],
 "metadata": {
  "kernelspec": {
   "display_name": "Python 3",
   "language": "python",
   "name": "python3"
  },
  "language_info": {
   "codemirror_mode": {
    "name": "ipython",
    "version": 3
   },
   "file_extension": ".py",
   "mimetype": "text/x-python",
   "name": "python",
   "nbconvert_exporter": "python",
   "pygments_lexer": "ipython3",
   "version": "3.10.13"
  }
 },
 "nbformat": 4,
 "nbformat_minor": 2
}
